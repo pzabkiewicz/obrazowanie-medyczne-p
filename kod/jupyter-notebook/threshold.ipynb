{
 "cells": [
  {
   "cell_type": "code",
   "execution_count": 11,
   "metadata": {},
   "outputs": [
    {
     "name": "stderr",
     "output_type": "stream",
     "text": [
      "C:\\ProgramData\\Anaconda3\\lib\\site-packages\\skimage\\util\\dtype.py:130: UserWarning: Possible precision loss when converting from float64 to uint8\n",
      "  .format(dtypeobj_in, dtypeobj_out))\n",
      "C:\\ProgramData\\Anaconda3\\lib\\site-packages\\skimage\\util\\arraycrop.py:177: FutureWarning: Using a non-tuple sequence for multidimensional indexing is deprecated; use `arr[tuple(seq)]` instead of `arr[seq]`. In the future this will be interpreted as an array index, `arr[np.array(seq)]`, which will result either in an error or a different result.\n",
      "  cropped = ar[slices]\n"
     ]
    },
    {
     "name": "stdout",
     "output_type": "stream",
     "text": [
      "Progress: |................... 5.00%\n",
      "Progress: ||.................. 10.00%\n",
      "Progress: |||................. 15.00%\n",
      "Progress: ||||................ 20.00%\n",
      "Progress: |||||............... 25.00%\n",
      "Progress: ||||||.............. 30.00%\n",
      "Progress: |||||||............. 35.00%\n",
      "Progress: ||||||||............ 40.00%\n",
      "Progress: |||||||||........... 45.00%\n",
      "Progress: ||||||||||.......... 50.00%\n",
      "Progress: |||||||||||......... 55.00%\n",
      "Progress: ||||||||||||........ 60.00%\n",
      "Progress: |||||||||||||....... 65.00%\n",
      "Progress: ||||||||||||||...... 70.00%\n",
      "Progress: |||||||||||||||..... 75.00%\n",
      "Progress: ||||||||||||||||.... 80.00%\n",
      "Progress: |||||||||||||||||... 85.00%\n",
      "Progress: ||||||||||||||||||.. 90.00%\n",
      "Progress: |||||||||||||||||||. 95.00%\n",
      "Progress: |||||||||||||||||||| 100.00%\n",
      "sen: 66, spec: 94, acc: 92\n"
     ]
    }
   ],
   "source": [
    "import cv2 as cv\n",
    "import numpy as np\n",
    "from skimage import data\n",
    "from skimage.filters import threshold_local, median\n",
    "from skimage import exposure\n",
    "from skimage import img_as_ubyte\n",
    "from skimage.morphology import erosion, dilation, opening, closing, white_tophat\n",
    "from skimage.morphology import disk\n",
    "from os import listdir\n",
    "\n",
    "\n",
    "basepath_training = 'DRIVE/training/images/'\n",
    "basepath_groundtruth = 'DRIVE/training/1st_manual/'\n",
    "\n",
    "training_files = listdir(basepath_training)\n",
    "groundtruth_files = listdir(basepath_groundtruth)\n",
    "files_count = len(training_files)\n",
    "\n",
    "sensitivity = 0\n",
    "specificity = 0\n",
    "accuracy = 0\n",
    "selem = disk(1.3)\n",
    "it = 1\n",
    "for img_paths in zip(training_files, groundtruth_files):\n",
    "\n",
    "    # segmentation of original image\n",
    "    img = cv.imread(basepath_training + img_paths[0])\n",
    "    b,g,r = cv.split(img)\n",
    "    img_shape = g.shape[:2]\n",
    "\n",
    "    th2 = exposure.equalize_adapthist(g, clip_limit=0.016)\n",
    "    med = median(th2)\n",
    "    block_size = 13\n",
    "    bina = th2 > threshold_local(th2, block_size, method='mean', offset=0.042)\n",
    "    bina = np.invert(bina)\n",
    "    img = img_as_ubyte(bina)\n",
    "    result1 = opening(img, selem)\n",
    "    selem = disk(1.4)\n",
    "    result = opening(result1, selem)\n",
    "    \n",
    "    # ground truth\n",
    "    cap = cv.VideoCapture(basepath_groundtruth + img_paths[1])\n",
    "    ret, frame = cap.read()\n",
    "\n",
    "    tp = 0; tn = 0; fp = 0; fn = 0\n",
    "    for i in range(img_shape[0]):\n",
    "        for j in range(img_shape[1]):\n",
    "            px = result[i][j]\n",
    "            if px == 0:\n",
    "                if frame[i,j,1] == 0:\n",
    "                    tn = tn + 1\n",
    "                elif frame[i,j,1] == 255:\n",
    "                    fn = fn + 1\n",
    "            elif px == 255:\n",
    "                if frame[i,j,1] == 0:\n",
    "                    fp = fp + 1\n",
    "                elif frame[i,j,1] == 255:\n",
    "                    tp = tp + 1\n",
    "                \n",
    "    sen = tp / (tp+fn) * 100\n",
    "    spec = tn / (tn+fp) * 100\n",
    "    acc = (tp + tn) / (tp + tn + fp + fn) * 100 \n",
    "\n",
    "\n",
    "    sensitivity = sensitivity + sen\n",
    "    specificity = specificity + spec\n",
    "    accuracy = accuracy + acc\n",
    "    print('Progress: ' + (it * '|') + ((files_count-it) * '.') + ' %.2f' % (it / files_count * 100) + '%')\n",
    "    it = it + 1\n",
    "\n",
    "print('sen: %d, spec: %d, acc: %d' % (sensitivity / files_count, \\\n",
    "            specificity / files_count, \\\n",
    "            accuracy / files_count))\n",
    "\n"
   ]
  },
  {
   "cell_type": "code",
   "execution_count": null,
   "metadata": {},
   "outputs": [],
   "source": [
    "66 94 92\n",
    "68 94 91"
   ]
  }
 ],
 "metadata": {
  "kernelspec": {
   "display_name": "Python 3",
   "language": "python",
   "name": "python3"
  },
  "language_info": {
   "codemirror_mode": {
    "name": "ipython",
    "version": 3
   },
   "file_extension": ".py",
   "mimetype": "text/x-python",
   "name": "python",
   "nbconvert_exporter": "python",
   "pygments_lexer": "ipython3",
   "version": "3.5.6"
  }
 },
 "nbformat": 4,
 "nbformat_minor": 2
}
