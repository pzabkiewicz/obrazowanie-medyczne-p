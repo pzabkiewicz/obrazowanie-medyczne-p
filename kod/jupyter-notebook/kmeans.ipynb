{
 "cells": [
  {
   "cell_type": "code",
   "execution_count": 3,
   "metadata": {},
   "outputs": [],
   "source": [
    "import cv2\n",
    "import numpy as np\n",
    "from math import *\n",
    "import matplotlib.pyplot as plt"
   ]
  },
  {
   "cell_type": "code",
   "execution_count": 4,
   "metadata": {},
   "outputs": [],
   "source": [
    "# read an image\n",
    "\n",
    "img_path = '../DRIVE/training/images/22_training.tif'\n",
    "img = cv2.imread(img_path, 1)\n",
    "img_shape = img.shape[:2]"
   ]
  },
  {
   "cell_type": "code",
   "execution_count": 32,
   "metadata": {},
   "outputs": [
    {
     "data": {
      "text/plain": [
       "True"
      ]
     },
     "execution_count": 32,
     "metadata": {},
     "output_type": "execute_result"
    }
   ],
   "source": [
    "cv2.imwrite('figures/km_dil_close.png', result)"
   ]
  },
  {
   "cell_type": "code",
   "execution_count": 25,
   "metadata": {},
   "outputs": [],
   "source": [
    "cv2.imshow('result',result)\n",
    "cv2.waitKey(0)\n",
    "cv2.destroyAllWindows()"
   ]
  },
  {
   "cell_type": "code",
   "execution_count": null,
   "metadata": {},
   "outputs": [],
   "source": [
    "# CREATING a MASK (ROI)\n",
    "\n",
    "# thresholds determined empirically\n",
    "T1 = 40; T2 = 50\n",
    "\n",
    "# 1st criterium\n",
    "avg_from_rgb = np.mean(img, axis=2)\n",
    "\n",
    "# 2nd criterium\n",
    "sum_of_diffs = np.empty(img.shape[:2])\n",
    "mask = np.ones(img.shape[:2])\n",
    "\n",
    "for i in range(img_shape[0]):\n",
    "    for j in range (img_shape[1]):\n",
    "        comb_rg = abs(img[i, j, 0] - img[i, j, 1])\n",
    "        comp_rb = abs(img[i, j, 0] - img[i, j, 2])\n",
    "        comb_gb = abs(img[i, j, 1] - img[i, j, 2])\n",
    "        \n",
    "        sum_of_diffs[i,j] = comb_rg + comp_rb + comb_gb\n",
    "        \n",
    "        if avg_from_rgb[i,j] < T1 and sum_of_diffs[i,j] < T2:\n",
    "            mask[i,j] = 0"
   ]
  },
  {
   "cell_type": "code",
   "execution_count": null,
   "metadata": {},
   "outputs": [],
   "source": [
    "# EXPANSION OF ROI (for avoiding artifacts from fundus image border)"
   ]
  },
  {
   "cell_type": "code",
   "execution_count": 9,
   "metadata": {},
   "outputs": [],
   "source": [
    "# GRAY LEVEL CONVERSION according formula: c_r*R + c_g * G + c_b * B, where c_r = 0.1, c_g = 0.7, c_b = 0.2\n",
    "img_gray = np.empty(img.shape[:2], dtype=np.uint8)\n",
    "for i in range(img_shape[0]):\n",
    "    for j in range(img_shape[1]):\n",
    "        img_gray[i,j] = np.uint8(0.1 * img[i,j,0]) + np.uint8(0.7 * img[i,j,1]) + np.uint8(0.2 * img[i,j,2])"
   ]
  },
  {
   "cell_type": "code",
   "execution_count": 12,
   "metadata": {},
   "outputs": [],
   "source": [
    "# VESSEL LIGHT REFLEX REMOVAL - using opening with 3 pixel diameter opening disc\n",
    "from skimage.morphology import disk, opening\n",
    "opened_img = opening(img_gray, disk(3))"
   ]
  },
  {
   "cell_type": "code",
   "execution_count": 15,
   "metadata": {},
   "outputs": [],
   "source": [
    "# FEATURE EXTRACTION by using several vessel enhancement methods:\n",
    "# 1. GABOR FILTER RESPONSE:\n",
    "orientations = 24\n",
    "base_angle = 12 \n",
    "\n",
    "gabor_result_img = np.zeros_like(opened_img)\n",
    "for i in range(orientations):\n",
    "    theta = base_angle * (i+1)\n",
    "    gabor_kern = cv2.getGaborKernel(ksize=(3,3), sigma=2, theta=theta, lambd=10, gamma=0.5)\n",
    "    gabor_img = cv2.filter2D(opened_img, -1, gabor_kern)\n",
    "    np.maximum(gabor_result_img, gabor_img, gabor_result_img) # getting maximum response"
   ]
  },
  {
   "cell_type": "code",
   "execution_count": null,
   "metadata": {},
   "outputs": [],
   "source": [
    "# 2. GAUSSIAN METCHED-FILTER RESPONSE, 3. Frangi's multiscale vessel enhanement approach\n",
    "gauss_result_img = cv2.GaussianBlur(opened_img, (5,5), 1)"
   ]
  },
  {
   "cell_type": "code",
   "execution_count": 19,
   "metadata": {},
   "outputs": [],
   "source": [
    "# TOP-HAT for extracting small objects and details\n",
    "from skimage.morphology import disk\n",
    "tophat = cv2.morphologyEx(gabor_result_img, cv2.MORPH_TOPHAT, disk(5))"
   ]
  },
  {
   "cell_type": "code",
   "execution_count": 27,
   "metadata": {},
   "outputs": [],
   "source": [
    "# K-Means\n",
    "# K = 3 (3 regions of vesselness possiblity: high, medium, low)\n",
    "z = np.reshape(tophat, (img_shape[0] * img_shape[1], 1))\n",
    "z = np.float32(z)\n",
    "\n",
    "criteria = (cv2.TERM_CRITERIA_EPS, 10, 1.0)\n",
    "flags = cv2.KMEANS_RANDOM_CENTERS\n",
    "\n",
    "# Apply KMeans\n",
    "compactness,labels,centers = cv2.kmeans(z,3,None,criteria,10,flags)"
   ]
  },
  {
   "cell_type": "code",
   "execution_count": 28,
   "metadata": {},
   "outputs": [],
   "source": [
    "uniqueVals, counts = np.unique(labels, return_counts=True)\n",
    "whiteLabel = np.argmin(counts)\n",
    "blackLabel = np.argmax(counts)\n",
    "grayLabel = [i for i in range(3) if i != whiteLabel and i != blackLabel]"
   ]
  },
  {
   "cell_type": "code",
   "execution_count": 29,
   "metadata": {},
   "outputs": [],
   "source": [
    "centers = np.uint8(centers)\n",
    "labels[labels==whiteLabel] = grayLabel[0]\n",
    "res = centers[labels.flatten()]\n",
    "result = res.reshape((img_shape))\n",
    "a,b = np.unique(result, return_counts=True)\n",
    "result[result==a[np.argmax(b)]] = 0\n",
    "result[result==a[np.argmin(b)]] = 255"
   ]
  },
  {
   "cell_type": "code",
   "execution_count": 31,
   "metadata": {},
   "outputs": [],
   "source": [
    "struct = cv2.getStructuringElement(cv2.MORPH_CROSS,(3,3))\n",
    "result = cv2.dilate(result,struct,iterations = 1)\n",
    "result = cv2.morphologyEx(result, cv2.MORPH_CLOSE, cv2.getStructuringElement(cv2.MORPH_ELLIPSE,(3,3)))"
   ]
  },
  {
   "cell_type": "code",
   "execution_count": null,
   "metadata": {},
   "outputs": [],
   "source": [
    "# PERFORMANCE\n",
    "ground_truth_img_path = '../DRIVE/training/1st_manual/22_manual1.gif'\n",
    "cap = cv2.VideoCapture(ground_truth_img_path)\n",
    "ret, frame = cap.read()"
   ]
  },
  {
   "cell_type": "code",
   "execution_count": null,
   "metadata": {},
   "outputs": [],
   "source": [
    "cv2.imshow('frame',frame)\n",
    "cv2.waitKey(0)\n",
    "cv2.destroyAllWindows()"
   ]
  },
  {
   "cell_type": "code",
   "execution_count": null,
   "metadata": {},
   "outputs": [],
   "source": [
    "tp = 0; tn = 0; fp = 0; fn = 0\n",
    "for i in range(img_shape[0]):\n",
    "    for j in range(img_shape[1]):\n",
    "        px = result[i][j]\n",
    "        if px == 0:\n",
    "            if frame[i,j,1] == 0:\n",
    "                tn = tn + 1\n",
    "            elif frame[i,j,1] == 255:\n",
    "                fn = fn + 1\n",
    "        elif px == 255:\n",
    "            if frame[i,j,1] == 0:\n",
    "                fp = fp + 1\n",
    "            elif frame[i,j,1] == 255:\n",
    "                tp = tp + 1\n",
    "                \n",
    "sen = tp / (tp+fn) * 100 # sensitivity\n",
    "spec = tn / (tn+fp) * 100 # specificity\n",
    "acc = (tp + tn) / (tp + tn + fp + fn) * 100 # accuracy"
   ]
  }
 ],
 "metadata": {
  "kernelspec": {
   "display_name": "Python 3",
   "language": "python",
   "name": "python3"
  },
  "language_info": {
   "codemirror_mode": {
    "name": "ipython",
    "version": 3
   },
   "file_extension": ".py",
   "mimetype": "text/x-python",
   "name": "python",
   "nbconvert_exporter": "python",
   "pygments_lexer": "ipython3",
   "version": "3.7.1"
  }
 },
 "nbformat": 4,
 "nbformat_minor": 2
}
